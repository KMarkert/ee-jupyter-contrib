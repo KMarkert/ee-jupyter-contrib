{
 "cells": [
  {
   "cell_type": "code",
   "execution_count": 1,
   "metadata": {},
   "outputs": [
    {
     "name": "stdout",
     "output_type": "stream",
     "text": [
      "Populating the interactive namespace from numpy and matplotlib\n"
     ]
    }
   ],
   "source": [
    "import ee\n",
    "import pandas as pd\n",
    "ee.Initialize()\n",
    "\n",
    "%pylab inline"
   ]
  },
  {
   "cell_type": "code",
   "execution_count": 2,
   "metadata": {},
   "outputs": [],
   "source": [
    "collection = ee.ImageCollection('MODIS/006/MOD11A2')"
   ]
  },
  {
   "cell_type": "code",
   "execution_count": 3,
   "metadata": {},
   "outputs": [],
   "source": [
    "# helper function to extract QA bits\n",
    "def getQABits(image, start, end, newName):\n",
    "    #Compute the bits we need to extract.\n",
    "    pattern = 0;\n",
    "    for i in range(start,end+1):\n",
    "       pattern += math.pow(2, i);\n",
    "\n",
    "    # Return a single band image of the extracted QA bits, giving the band\n",
    "    # a new name.\n",
    "    return image.select([0], [newName])\\\n",
    "                  .bitwiseAnd(int(pattern))\\\n",
    "                  .rightShift(start);\n",
    "        \n",
    "def qualityMask(image):\n",
    "    quality = getQABits(image.select('QC_Day'),0,1,'qa')\n",
    "    mask = quality.lte(1)\n",
    "    return image.updateMask(mask)\n",
    "\n",
    "qualityCollection = collection.map(qualityMask)"
   ]
  },
  {
   "cell_type": "code",
   "execution_count": 4,
   "metadata": {},
   "outputs": [],
   "source": [
    "def smoothSeries(collection,window):\n",
    "    def smoother(img):\n",
    "        t = ee.Date(img.get('system:time_start'))\n",
    "        val = collection.filterDate(t.advance(-window,'day'),t.advance(window,'day')).mean()\n",
    "        return val.set('system:time_start',t.millis())\n",
    "    return collection.map(smoother)\n",
    "\n",
    "smoothCollection = smoothSeries(qualityCollection,15)"
   ]
  },
  {
   "cell_type": "code",
   "execution_count": 5,
   "metadata": {},
   "outputs": [
    {
     "data": {
      "text/html": [
       "<div>\n",
       "<table border=\"1\" class=\"dataframe\">\n",
       "  <thead>\n",
       "    <tr style=\"text-align: right;\">\n",
       "      <th></th>\n",
       "      <th>id</th>\n",
       "      <th>longitude</th>\n",
       "      <th>latitude</th>\n",
       "      <th>time</th>\n",
       "      <th>LST_Day_1km</th>\n",
       "    </tr>\n",
       "  </thead>\n",
       "  <tbody>\n",
       "    <tr>\n",
       "      <th>0</th>\n",
       "      <td>2000_02_18</td>\n",
       "      <td>-84.392229</td>\n",
       "      <td>33.745214</td>\n",
       "      <td>950832000000</td>\n",
       "      <td>14911.500000</td>\n",
       "    </tr>\n",
       "    <tr>\n",
       "      <th>1</th>\n",
       "      <td>2000_02_26</td>\n",
       "      <td>-84.392229</td>\n",
       "      <td>33.745214</td>\n",
       "      <td>951523200000</td>\n",
       "      <td>14924.000000</td>\n",
       "    </tr>\n",
       "    <tr>\n",
       "      <th>2</th>\n",
       "      <td>2000_03_05</td>\n",
       "      <td>-84.392229</td>\n",
       "      <td>33.745214</td>\n",
       "      <td>952214400000</td>\n",
       "      <td>14893.333333</td>\n",
       "    </tr>\n",
       "    <tr>\n",
       "      <th>3</th>\n",
       "      <td>2000_03_13</td>\n",
       "      <td>-84.392229</td>\n",
       "      <td>33.745214</td>\n",
       "      <td>952905600000</td>\n",
       "      <td>14887.666667</td>\n",
       "    </tr>\n",
       "    <tr>\n",
       "      <th>4</th>\n",
       "      <td>2000_03_21</td>\n",
       "      <td>-84.392229</td>\n",
       "      <td>33.745214</td>\n",
       "      <td>953596800000</td>\n",
       "      <td>14936.666667</td>\n",
       "    </tr>\n",
       "  </tbody>\n",
       "</table>\n",
       "</div>"
      ],
      "text/plain": [
       "           id  longitude   latitude          time   LST_Day_1km\n",
       "0  2000_02_18 -84.392229  33.745214  950832000000  14911.500000\n",
       "1  2000_02_26 -84.392229  33.745214  951523200000  14924.000000\n",
       "2  2000_03_05 -84.392229  33.745214  952214400000  14893.333333\n",
       "3  2000_03_13 -84.392229  33.745214  952905600000  14887.666667\n",
       "4  2000_03_21 -84.392229  33.745214  953596800000  14936.666667"
      ]
     },
     "execution_count": 5,
     "metadata": {},
     "output_type": "execute_result"
    }
   ],
   "source": [
    "atl = ee.Geometry.Point([-84.3880,33.7490])\n",
    "\n",
    "out = smoothCollection.select('LST_Day_1km').getRegion(atl,1000).getInfo()\n",
    "\n",
    "\n",
    "df = pd.DataFrame(out[1:])\n",
    "df.columns = out[0]\n",
    "df.head(5)"
   ]
  },
  {
   "cell_type": "code",
   "execution_count": 6,
   "metadata": {},
   "outputs": [],
   "source": [
    "date = []\n",
    "for i in range(df.shape[0]):\n",
    "    date.append(pd.Timestamp(df.time[i]*1000000))\n",
    "    \n",
    "ts = pd.Series(np.array(df.LST_Day_1km)*0.02-273.15,index=date,name='lst')\n",
    "ts.index.name = 'Date'"
   ]
  },
  {
   "cell_type": "code",
   "execution_count": 7,
   "metadata": {},
   "outputs": [
    {
     "data": {
      "text/plain": [
       "Date\n",
       "2000-02-18    25.080000\n",
       "2000-02-26    25.330000\n",
       "2000-03-05    24.716667\n",
       "2000-03-13    24.603333\n",
       "2000-03-21    25.583333\n",
       "Name: lst, dtype: float64"
      ]
     },
     "execution_count": 7,
     "metadata": {},
     "output_type": "execute_result"
    }
   ],
   "source": [
    "ts.head(5)"
   ]
  },
  {
   "cell_type": "code",
   "execution_count": 8,
   "metadata": {},
   "outputs": [
    {
     "data": {
      "text/plain": [
       "<matplotlib.axes._subplots.AxesSubplot at 0x1115a9450>"
      ]
     },
     "execution_count": 8,
     "metadata": {},
     "output_type": "execute_result"
    },
    {
     "data": {
      "image/png": "[encoded data removed]",
      "text/plain": [
       "<matplotlib.figure.Figure at 0x111551c90>"
      ]
     },
     "metadata": {},
     "output_type": "display_data"
    }
   ],
   "source": [
    "mask = (ts.index >='2005-01-01') & (ts.index<='2008-12-31')\n",
    "\n",
    "ts.loc[mask].plot()"
   ]
  },
  {
   "cell_type": "code",
   "execution_count": null,
   "metadata": {},
   "outputs": [],
   "source": []
  }
 ],
 "metadata": {
  "kernelspec": {
   "display_name": "Python 2",
   "language": "python",
   "name": "python2"
  },
  "language_info": {
   "codemirror_mode": {
    "name": "ipython",
    "version": 2
   },
   "file_extension": ".py",
   "mimetype": "text/x-python",
   "name": "python",
   "nbconvert_exporter": "python",
   "pygments_lexer": "ipython2",
   "version": "2.7.10"
  }
 },
 "nbformat": 4,
 "nbformat_minor": 2
}
